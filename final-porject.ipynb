{
 "cells": [
  {
   "cell_type": "code",
   "execution_count": 102,
   "metadata": {},
   "outputs": [
    {
     "name": "stderr",
     "output_type": "stream",
     "text": [
      "[nltk_data] Downloading package punkt to /Users/issaennab/nltk_data...\n",
      "[nltk_data]   Package punkt is already up-to-date!\n",
      "[nltk_data] Downloading package stopwords to\n",
      "[nltk_data]     /Users/issaennab/nltk_data...\n",
      "[nltk_data]   Package stopwords is already up-to-date!\n",
      "[nltk_data] Downloading package wordnet to\n",
      "[nltk_data]     /Users/issaennab/nltk_data...\n",
      "[nltk_data]   Package wordnet is already up-to-date!\n"
     ]
    },
    {
     "data": {
      "text/plain": [
       "True"
      ]
     },
     "execution_count": 102,
     "metadata": {},
     "output_type": "execute_result"
    }
   ],
   "source": [
    "import pandas as pd\n",
    "import seaborn as sb\n",
    "import numpy as nump\n",
    "import statsmodels.formula.api as sm\n",
    "import matplotlib.pyplot as plot\n",
    "import nltk\n",
    "import re\n",
    "import unicodedata\n",
    "import warnings\n",
    "import matplotlib.pyplot as plt\n",
    "import numpy as np\n",
    "\n",
    "from bs4 import BeautifulSoup, MarkupResemblesLocatorWarning\n",
    "from contraction_map import CONTRACTION_MAP\n",
    "from nltk.tokenize import word_tokenize\n",
    "from nltk.corpus import stopwords\n",
    "from nltk.stem import WordNetLemmatizer\n",
    "from sklearn.feature_extraction.text import TfidfVectorizer\n",
    "from sklearn.model_selection import train_test_split\n",
    "from sklearn.linear_model import LogisticRegression\n",
    "from sklearn.metrics import accuracy_score, classification_report\n",
    "from sklearn.linear_model import LinearRegression\n",
    "from sklearn.metrics import mean_squared_error, r2_score\n",
    "from sklearn.ensemble import RandomForestRegressor\n",
    "\n",
    "nltk.download('punkt')  # Ensure the tokenizer is available\n",
    "nltk.download('stopwords')\n",
    "nltk.download('wordnet')"
   ]
  },
  {
   "cell_type": "markdown",
   "metadata": {},
   "source": [
    "**Data Source and Initial Viewing**\n",
    "\n",
    "- Setting Display Options\n",
    "- Loading and Displaying the Dataset"
   ]
  },
  {
   "cell_type": "code",
   "execution_count": 39,
   "metadata": {},
   "outputs": [
    {
     "name": "stdout",
     "output_type": "stream",
     "text": [
      "   Unnamed: 0                            drugName                     condition                                             review  rating               date  usefulCount\n",
      "0      206461                           Valsartan  Left Ventricular Dysfunction  \"It has no side effect, I take it in combinati...     9.0       May 20, 2012           27\n",
      "1       95260                          Guanfacine                          ADHD  \"My son is halfway through his fourth week of ...     8.0     April 27, 2010          192\n",
      "2       92703                              Lybrel                 Birth Control  \"I used to take another oral contraceptive, wh...     5.0  December 14, 2009           17\n",
      "3      138000                          Ortho Evra                 Birth Control  \"This is my first time using any form of birth...     8.0   November 3, 2015           10\n",
      "4       35696            Buprenorphine / naloxone             Opiate Dependence  \"Suboxone has completely turned my life around...     9.0  November 27, 2016           37\n",
      "5      155963                              Cialis  Benign Prostatic Hyperplasia  \"2nd day on 5mg started to work with rock hard...     2.0  November 28, 2015           43\n",
      "6      165907                      Levonorgestrel       Emergency Contraception  \"He pulled out, but he cummed a bit in me. I t...     1.0      March 7, 2017            5\n",
      "7      102654                        Aripiprazole               Bipolar Disorde  \"Abilify changed my life. There is hope. I was...    10.0     March 14, 2015           32\n",
      "8       74811                              Keppra                      Epilepsy  \" I Ve had  nothing but problems with the Kepp...     1.0     August 9, 2016           11\n",
      "9       48928  Ethinyl estradiol / levonorgestrel                 Birth Control  \"I had been on the pill for many years. When m...     8.0   December 8, 2016            1\n"
     ]
    }
   ],
   "source": [
    "# Set display options\n",
    "pd.set_option('display.max_columns', None)  # Ensure all columns are shown\n",
    "pd.set_option('display.width', 1000)  # Adjust the width to fit your screen\n",
    "\n",
    "AllDataTrain = pd.read_csv(\"drugsComTrain_raw.tsv\", sep = \"\\t\")\n",
    "print(str(AllDataTrain.head(10)))"
   ]
  },
  {
   "cell_type": "markdown",
   "metadata": {},
   "source": [
    "## Data Preparation and Cleaning Overview\n",
    "\n",
    "### Inspect the Data\n",
    "- **Objective:** Understand the dataset's structure, identify missing values, and assess text data quality.\n",
    "\n",
    "### Handling Missing Values\n",
    "- **Strategies:** Discuss the choice between removing rows or filling in missing values, highlighting the selected approach and its rationale.\n",
    "\n",
    "### Text Normalization\n",
    "- **Steps Taken:** List normalization techniques applied, such as lowercasing, removing HTML tags, and lemmatization.\n",
    "\n",
    "### Removing Irrelevant Features\n",
    "- **Justification:** Explain the criteria for feature selection and the impact on model performance and interpretability."
   ]
  },
  {
   "cell_type": "code",
   "execution_count": 38,
   "metadata": {},
   "outputs": [
    {
     "name": "stdout",
     "output_type": "stream",
     "text": [
      "Missing Values Summary:\n",
      "\n",
      "Unnamed: 0  : 0 missing value(s)\n",
      "drugName    : 0 missing value(s)\n",
      "condition   : 899 missing value(s)\n",
      "review      : 0 missing value(s)\n",
      "rating      : 0 missing value(s)\n",
      "date        : 0 missing value(s)\n",
      "usefulCount : 0 missing value(s)\n"
     ]
    }
   ],
   "source": [
    "missing_values_summary = AllDataTrain.isnull().sum()\n",
    "print(\"Missing Values Summary:\\n\")\n",
    "max_column_width = max(len(column) for column in missing_values_summary.index)\n",
    "for column, missing_count in missing_values_summary.items():\n",
    "    print(f\"{column.ljust(max_column_width)} : {missing_count} missing value(s)\")\n"
   ]
  },
  {
   "cell_type": "markdown",
   "metadata": {},
   "source": [
    "he summary of missing values above indicates that the **condition** column is the only one with missing data, tallying 899 missing values. This finding is significant because the **condition** column likely plays a crucial role in our analysis, serving as a key variable for understanding the context of drug reviews.\n",
    "\n",
    "Given this insight, our next steps in cleaning the dataset will thoughtfully address these missing **condition** values. Our aim is to preserve as much information as possible, thereby maintaining the integrity and usefulness of our data for analysis. We will consider the overall impact of missing data on our dataset and analysis goals. This includes evaluating different strategies, such as removing rows with missing **condition** values or possibly filling these gaps with a placeholder value like \"Unknown\". By considering various approaches to handle these missing values, we will ensure our dataset is as robust and representative as possible for the subsequent stages of our project."
   ]
  },
  {
   "cell_type": "markdown",
   "metadata": {},
   "source": [
    "Filling Missing Values with \"Unknown\"\n",
    "In data analysis and machine learning, handling missing values is a critical preprocessing step. Missing data can occur for various reasons, such as errors during data collection, entry, or processing. The way we handle these missing values can significantly impact the results of our analysis.\n",
    "\n",
    "For this project, we've encountered missing values in the **condition** column of our dataset. After considering the available strategies for dealing with missing data, we've decided to fill these missing values with the placeholder \"Unknown\". This decision is based on several key considerations:\n",
    "\n",
    "- Data Preservation: By filling missing values with \"Unknown\", we retain all observations in our dataset. This is particularly important in our context because every review provides valuable insights that contribute to the overall analysis. Removing entries with missing **condition** data would reduce our dataset's size and potentially omit significant information.\n",
    "\n",
    "- Analytical Clarity: Using a clear placeholder like \"Unknown\" allows us to maintain analytical clarity. It explicitly acknowledges the presence of missing information without making assumptions about the data. This approach ensures that our analysis remains transparent and reproducible.\n",
    "\n",
    "- Flexibility in Analysis: Filling missing values with \"Unknown\" offers flexibility in our analysis. It enables us to include these entries in our analysis, which might reveal patterns related to missing data or differences between reviews with known and unknown **condition**.\n",
    "\n",
    "- Practicality: This method is straightforward to implement and interpret. It avoids the complexities and potential biases of imputation methods, which might infer missing values based on other data. While imputation can be valuable, it may not always be appropriate, especially when the reasons for the missing data are not well understood.\n",
    "\n",
    "- Real-World Application: In real-world scenarios, not all information is always available. By using \"Unknown\" for missing values, we mirror these situations, enhancing the practical relevance of our analysis. It prepares us to deal with incompleteness in data, a common challenge in data science."
   ]
  },
  {
   "cell_type": "code",
   "execution_count": 60,
   "metadata": {},
   "outputs": [
    {
     "name": "stdout",
     "output_type": "stream",
     "text": [
      "                                                                                                review                                                                                       cleaned_review\n",
      "0                      \"It has no side effect, I take it in combination of Bystolic 5 Mg and Fish Oil\"                          it has no side effect i take it in combination of bystolic  mg and fish oil\n",
      "1  \"My son is halfway through his fourth week of Intuniv. We became concerned when he began this la...  my son is halfway through his fourth week of intuniv we became concerned when he began this last...\n",
      "2  \"I used to take another oral contraceptive, which had 21 pill cycle, and was very happy- very li...  i used to take another oral contraceptive which had  pill cycle and was very happy very light pe...\n",
      "3  \"This is my first time using any form of birth control. I&#039;m glad I went with the patch, I h...  this is my first time using any form of birth control im glad i went with the patch i have been ...\n",
      "4  \"Suboxone has completely turned my life around.  I feel healthier, I&#039;m excelling at my job ...  suboxone has completely turned my life around  i feel healthier im excelling at my job and i alw...\n",
      "5  \"2nd day on 5mg started to work with rock hard erections however experianced headache, lower bow...  nd day on mg started to work with rock hard erections however experianced headache lower bowel p...\n",
      "6  \"He pulled out, but he cummed a bit in me. I took the Plan B 26 hours later, and took a pregnanc...  he pulled out but he cummed a bit in me i took the plan b  hours later and took a pregnancy test...\n",
      "7  \"Abilify changed my life. There is hope. I was on Zoloft and Clonidine when I first started Abil...  abilify changed my life there is hope i was on zoloft and clonidine when i first started abilify...\n",
      "8  \" I Ve had  nothing but problems with the Keppera : constant shaking in my arms &amp; legs &amp;...   i ve had  nothing but problems with the keppera  constant shaking in my arms  legs  pins  needl...\n",
      "9  \"I had been on the pill for many years. When my doctor changed my RX to chateal, it was as effec...  i had been on the pill for many years when my doctor changed my rx to chateal it was as effectiv...\n"
     ]
    }
   ],
   "source": [
    "# Fill missing 'condition' values with 'Unknown'\n",
    "AllDataTrain['condition'] = AllDataTrain['condition'].fillna('Unknown')\n",
    "\n",
    "# Suppress specific BeautifulSoup warning\n",
    "warnings.filterwarnings('ignore', category=MarkupResemblesLocatorWarning)\n",
    "\n",
    "def expand_contractions(text, contraction_mapping=CONTRACTION_MAP):\n",
    "    contractions_pattern = re.compile('({})'.format('|'.join(contraction_mapping.keys())), flags=re.IGNORECASE|re.DOTALL)\n",
    "    def expand_match(contraction):\n",
    "        match = contraction.group(0)\n",
    "        expanded_contraction = contraction_mapping.get(match.lower(), match)  # Default to match if not found\n",
    "        return expanded_contraction\n",
    "    expanded_text = contractions_pattern.sub(expand_match, text)\n",
    "    return expanded_text\n",
    "\n",
    "# Clean text data in 'review'\n",
    "def clean_text(text):\n",
    "    # Explicitly convert text to a string to avoid MarkupResemblesLocatorWarning\n",
    "    text = str(text)\n",
    "    text = BeautifulSoup(text, \"html.parser\").get_text()  # Remove HTML tags\n",
    "    text = re.sub(r'[^a-zA-Z\\s]', '', text, re.I|re.A)  # Remove special characters\n",
    "    text = text.lower()  # Lowercase the text\n",
    "    return text\n",
    "\n",
    "AllDataTrain['cleaned_review'] = AllDataTrain['review'].apply(clean_text)\n",
    "\n",
    "pd.set_option('display.max_colwidth', 100)\n",
    "# Display the first few rows to verify changes\n",
    "print(AllDataTrain[['review', 'cleaned_review']].head(10))"
   ]
  },
  {
   "cell_type": "code",
   "execution_count": 61,
   "metadata": {},
   "outputs": [
    {
     "name": "stdout",
     "output_type": "stream",
     "text": [
      "Record 1\n",
      "Original Review:\n",
      "\"It has no side effect, I take it in combination of Bystolic 5 Mg and Fish Oil\"\n",
      "\n",
      "Cleaned Review:\n",
      "it has no side effect i take it in combination of bystolic  mg and fish oil\n",
      "\n",
      "------------------------------------------------\n",
      "\n",
      "Record 2\n",
      "Original Review:\n",
      "\"My son is halfway through his fourth week of Intuniv. We became concerned when he began this last week, when he started taking the highest dose he will be on. For two days, he could hardly get out of bed, was very cranky, and slept for nearly 8 hours on a drive home from school vacation (very unusual for him.) I called his doctor on Monday morning and she said to stick it out a few days. See how he did at school, and with getting up in the morning. The last two days have been problem free. He is MUCH more agreeable than ever. He is less emotional (a good thing), less cranky. He is remembering all the things he should. Overall his behavior is better. \n",
      "We have tried many different medications and so far this is the most effective.\"\n",
      "\n",
      "Cleaned Review:\n",
      "my son is halfway through his fourth week of intuniv we became concerned when he began this last week when he started taking the highest dose he will be on for two days he could hardly get out of bed was very cranky and slept for nearly  hours on a drive home from school vacation very unusual for him i called his doctor on monday morning and she said to stick it out a few days see how he did at school and with getting up in the morning the last two days have been problem free he is much more agreeable than ever he is less emotional a good thing less cranky he is remembering all the things he should overall his behavior is better \n",
      "we have tried many different medications and so far this is the most effective\n",
      "\n",
      "------------------------------------------------\n",
      "\n",
      "Record 3\n",
      "Original Review:\n",
      "\"I used to take another oral contraceptive, which had 21 pill cycle, and was very happy- very light periods, max 5 days, no other side effects. But it contained hormone gestodene, which is not available in US, so I switched to Lybrel, because the ingredients are similar. When my other pills ended, I started Lybrel immediately, on my first day of period, as the instructions said. And the period lasted for two weeks. When taking the second pack- same two weeks. And now, with third pack things got even worse- my third period lasted for two weeks and now it&#039;s the end of the third week- I still have daily brown discharge.\n",
      "The positive side is that I didn&#039;t have any other side effects. The idea of being period free was so tempting... Alas.\"\n",
      "\n",
      "Cleaned Review:\n",
      "i used to take another oral contraceptive which had  pill cycle and was very happy very light periods max  days no other side effects but it contained hormone gestodene which is not available in us so i switched to lybrel because the ingredients are similar when my other pills ended i started lybrel immediately on my first day of period as the instructions said and the period lasted for two weeks when taking the second pack same two weeks and now with third pack things got even worse my third period lasted for two weeks and now its the end of the third week i still have daily brown discharge\n",
      "the positive side is that i didnt have any other side effects the idea of being period free was so tempting alas\n",
      "\n",
      "------------------------------------------------\n",
      "\n",
      "Record 4\n",
      "Original Review:\n",
      "\"This is my first time using any form of birth control. I&#039;m glad I went with the patch, I have been on it for 8 months. At first It decreased my libido but that subsided. The only downside is that it made my periods longer (5-6 days to be exact) I used to only have periods for 3-4 days max also made my cramps intense for the first two days of my period, I never had cramps before using birth control. Other than that in happy with the patch\"\n",
      "\n",
      "Cleaned Review:\n",
      "this is my first time using any form of birth control im glad i went with the patch i have been on it for  months at first it decreased my libido but that subsided the only downside is that it made my periods longer  days to be exact i used to only have periods for  days max also made my cramps intense for the first two days of my period i never had cramps before using birth control other than that in happy with the patch\n",
      "\n",
      "------------------------------------------------\n",
      "\n",
      "Record 5\n",
      "Original Review:\n",
      "\"Suboxone has completely turned my life around.  I feel healthier, I&#039;m excelling at my job and I always have money in my pocket and my savings account.  I had none of those before Suboxone and spent years abusing oxycontin.  My paycheck was already spent by the time I got it and I started resorting to scheming and stealing to fund my addiction.  All that is history.  If you&#039;re ready to stop, there&#039;s a good chance that suboxone will put you on the path of great life again.  I have found the side-effects to be minimal compared to oxycontin.  I&#039;m actually sleeping better.   Slight constipation is about it for me.  It truly is amazing. The cost pales in comparison to what I spent on oxycontin.\"\n",
      "\n",
      "Cleaned Review:\n",
      "suboxone has completely turned my life around  i feel healthier im excelling at my job and i always have money in my pocket and my savings account  i had none of those before suboxone and spent years abusing oxycontin  my paycheck was already spent by the time i got it and i started resorting to scheming and stealing to fund my addiction  all that is history  if youre ready to stop theres a good chance that suboxone will put you on the path of great life again  i have found the sideeffects to be minimal compared to oxycontin  im actually sleeping better   slight constipation is about it for me  it truly is amazing the cost pales in comparison to what i spent on oxycontin\n",
      "\n",
      "------------------------------------------------\n",
      "\n"
     ]
    }
   ],
   "source": [
    "# Display the original and cleaned review side by side for comparison for the first 5 records\n",
    "for i in range(5):\n",
    "    original_review = AllDataTrain.iloc[i]['review']\n",
    "    cleaned_review = AllDataTrain.iloc[i]['cleaned_review']\n",
    "    \n",
    "    print(f\"Record {i+1}\")\n",
    "    print(f\"Original Review:\\n{original_review}\\n\")\n",
    "    print(f\"Cleaned Review:\\n{cleaned_review}\\n\")\n",
    "    print(\"------------------------------------------------\\n\")"
   ]
  },
  {
   "cell_type": "code",
   "execution_count": 63,
   "metadata": {},
   "outputs": [
    {
     "name": "stdout",
     "output_type": "stream",
     "text": [
      "['Here', \"'s\", 'an', 'example', 'of', 'using', 'NLTK', \"'s\", 'word_tokenize', '.']\n"
     ]
    }
   ],
   "source": [
    "# Example text\n",
    "sample_text = \"Here's an example of using NLTK's word_tokenize.\"\n",
    "\n",
    "# Tokenize the text\n",
    "tokens = word_tokenize(sample_text)\n",
    "\n",
    "# Print the list of tokens\n",
    "print(tokens)"
   ]
  },
  {
   "cell_type": "markdown",
   "metadata": {},
   "source": [
    "**Here's a brief overview of each step:**\n",
    "\n",
    "**Removing Accented Characters:** Normalizes and removes accents from characters, which can help standardize text input, especially if you're dealing with languages or datasets that include accented characters.\n",
    "\n",
    "**Expanding Contractions:** Converts contracted forms like \"can't\" or \"she's\" to their expanded forms (\"cannot\", \"she is\"), which is beneficial for consistency and can improve the performance of subsequent NLP tasks."
   ]
  },
  {
   "cell_type": "code",
   "execution_count": 74,
   "metadata": {},
   "outputs": [],
   "source": [
    "def remove_accented_chars(text):\n",
    "    text = unicodedata.normalize(\"NFKD\", text).encode(\"ascii\", \"ignore\").decode(\"utf-8\", \"ignore\")\n",
    "    return text\n",
    "\n",
    "def expand_contractions(text, contraction_mapping=CONTRACTION_MAP):\n",
    "    contractions_pattern = re.compile('({})'.format('|'.join(contraction_mapping.keys())), flags=re.IGNORECASE|re.DOTALL)\n",
    "    def expand_match(contraction):\n",
    "        match = contraction.group(0)\n",
    "        expanded_contraction = contraction_mapping.get(match.lower())\n",
    "        return expanded_contraction\n",
    "    expanded_text = contractions_pattern.sub(expand_match, text)\n",
    "    return expanded_text"
   ]
  },
  {
   "cell_type": "markdown",
   "metadata": {},
   "source": [
    "**Lowercasing:** Converts all characters in the text to lowercase to ensure that the same words are recognized as identical regardless of their case in the original text (e.g., \"The\" and \"the\").\n",
    "\n",
    "**Tokenizing:** Splits the text into individual words or tokens, which are the basic units for most NLP tasks.\n",
    "\n",
    "**Removing Non-Alphabetic Characters:** Filters out tokens that do not contain alphabetic characters, which typically removes punctuation and special characters that may not be needed for analysis.\n",
    "\n",
    "**Removing Stop Words:** Excludes common words (e.g., \"and\", \"the\", \"is\") that appear frequently in the language but usually don't carry significant meaning for analysis.\n",
    "\n",
    "**Lemmatizing:** Reduces words to their base or dictionary form, helping to consolidate the different forms of a word into a single representation (e.g., \"running\" to \"run\")."
   ]
  },
  {
   "cell_type": "code",
   "execution_count": 75,
   "metadata": {},
   "outputs": [],
   "source": [
    "stop_words = set(stopwords.words('english'))\n",
    "lemmatizer = WordNetLemmatizer()\n",
    "\n",
    "def preprocess_text(text):\n",
    "    text = remove_accented_chars(text)  # Removing accented characters\n",
    "    text = expand_contractions(text)  # Expanding contractions\n",
    "    text = text.lower()  # Converting to lowercase\n",
    "    tokens = word_tokenize(text)  # Tokenizing the text\n",
    "    tokens = [token for token in tokens if token.isalpha()]  # Removing non-alphabetic characters\n",
    "    tokens = [token for token in tokens if token not in stop_words]  # Removing stop words\n",
    "    tokens = [lemmatizer.lemmatize(token) for token in tokens]  # Lemmatizing the tokens\n",
    "    return tokens"
   ]
  },
  {
   "cell_type": "code",
   "execution_count": 78,
   "metadata": {},
   "outputs": [
    {
     "name": "stdout",
     "output_type": "stream",
     "text": [
      "                                                                                        cleaned_review                                                                                     processed_tokens\n",
      "0                          it has no side effect i take it in combination of bystolic  mg and fish oil                                           [side, effect, take, combination, bystolic, mg, fish, oil]\n",
      "1  my son is halfway through his fourth week of intuniv we became concerned when he began this last...  [son, halfway, fourth, week, intuniv, became, concerned, began, last, week, started, taking, hig...\n",
      "2  i used to take another oral contraceptive which had  pill cycle and was very happy very light pe...  [used, take, another, oral, contraceptive, pill, cycle, happy, light, period, max, day, side, ef...\n",
      "3  this is my first time using any form of birth control im glad i went with the patch i have been ...  [first, time, using, form, birth, control, im, glad, went, patch, month, first, decreased, libid...\n",
      "4  suboxone has completely turned my life around  i feel healthier im excelling at my job and i alw...  [suboxone, completely, turned, life, around, feel, healthier, im, excelling, job, always, money,...\n",
      "5  nd day on mg started to work with rock hard erections however experianced headache lower bowel p...  [nd, day, mg, started, work, rock, hard, erection, however, experianced, headache, lower, bowel,...\n",
      "6  he pulled out but he cummed a bit in me i took the plan b  hours later and took a pregnancy test...  [pulled, cummed, bit, took, plan, b, hour, later, took, pregnancy, test, two, week, later, im, p...\n",
      "7  abilify changed my life there is hope i was on zoloft and clonidine when i first started abilify...  [abilify, changed, life, hope, zoloft, clonidine, first, started, abilify, age, zoloft, depressi...\n",
      "8   i ve had  nothing but problems with the keppera  constant shaking in my arms  legs  pins  needl...  [nothing, problem, keppera, constant, shaking, arm, leg, pin, needle, feeling, arm, leg, severe,...\n",
      "9  i had been on the pill for many years when my doctor changed my rx to chateal it was as effectiv...  [pill, many, year, doctor, changed, rx, chateal, effective, really, help, completely, clearing, ...\n"
     ]
    }
   ],
   "source": [
    "AllDataTrain['processed_tokens'] = AllDataTrain['cleaned_review'].apply(preprocess_text)\n",
    "\n",
    "# Display the first few rows of processed tokens to verify changes\n",
    "print(AllDataTrain[['cleaned_review', 'processed_tokens']].head(10))"
   ]
  },
  {
   "cell_type": "markdown",
   "metadata": {},
   "source": [
    "## Feature Extraction\n",
    "\n",
    "### Bag of Words (BoW)\n",
    "This method transforms text into fixed-length vectors by counting how many times each word appears in a document. While simple, BoW can be effective but doesn't account for the order of words and can result in sparse matrices with many dimensions.\n",
    "\n",
    "### Term Frequency-Inverse Document Frequency (TF-IDF)\n",
    "TF-IDF considers not only how often a word appears in a document (term frequency) but also how unique the word is across all documents (inverse document frequency). This helps to emphasize words that are important in a particular document but not common across all documents, potentially giving more meaningful features.\n",
    "\n",
    "### Word Embeddings\n",
    "Word embeddings are advanced techniques where words are represented as dense vectors in a continuous vector space. Methods like Word2Vec or GloVe learn to represent words based on their context, capturing semantic relationships between words. Pre-trained embeddings can be used directly, or you can train your own embeddings specific to your dataset."
   ]
  },
  {
   "cell_type": "code",
   "execution_count": 85,
   "metadata": {},
   "outputs": [
    {
     "name": "stdout",
     "output_type": "stream",
     "text": [
      "Shape of TF-IDF Matrix: (161297, 1000)\n"
     ]
    }
   ],
   "source": [
    "\n",
    "# 'AllDataTrain['processed_text']' contains the cleaned and preprocessed text\n",
    "# Join tokens into a single string for each document\n",
    "AllDataTrain['processed_text'] = AllDataTrain['processed_tokens'].apply(lambda x: ' '.join(x))\n",
    "\n",
    "# Initialize the TF-IDF Vectorizer\n",
    "tfidf_vectorizer = TfidfVectorizer(max_features=1000)  # Limit to top 1000 features for simplicity\n",
    "\n",
    "# Fit and transform the processed text to create TF-IDF features\n",
    "X_tfidf = tfidf_vectorizer.fit_transform(AllDataTrain['processed_text'])\n",
    "\n",
    "# Prints the shape of the TF-IDF matrix\n",
    "print(f\"Shape of TF-IDF Matrix: {X_tfidf.shape}\")"
   ]
  },
  {
   "cell_type": "markdown",
   "metadata": {},
   "source": [
    "This output tells us that our dataset consists of **161,297 documents** (rows) and **1,000 features** (columns). Each feature corresponds to one of the top 1,000 terms considered most relevant across all documents, based on their TF-IDF scores.\n",
    "\n",
    "### What Does This Mean?\n",
    "\n",
    "**Dimensionality:** The process has effectively narrowed down the text data to the top 1,000 terms. This reduction in dimensionality helps make the dataset more manageable and computationally efficient for modeling, while still retaining the most informative aspects of the text.\n",
    "\n",
    "**Readiness for Machine Learning Models:** The text data is now in a numerical format, enabling us to proceed with various machine learning models. Whether our goal is classification, clustering, or regression, the TF-IDF matrix serves as a suitable input for these models.\n",
    "\n",
    "**Sparse Matrix Efficiency:** The X_tfidf matrix is a sparse matrix, meaning it primarily stores non-zero values. This is a memory-efficient way to handle text data, as typically, any given document will only contain a small subset of the overall vocabulary, resulting in a matrix where most values are zero."
   ]
  },
  {
   "cell_type": "markdown",
   "metadata": {},
   "source": [
    "## Model Selection\n",
    "\n",
    "**Implement Logistic Regression as Baseline Model:** This step is part of the model selection phase but also includes training (fitting the model to the data) and evaluation (assessing its performance).\n",
    "\n",
    "- **Split the Dataset**\n",
    "- **Initialize and Train the Logistic Regression Model**\n",
    "- **Make Predictions and Evaluate the Model**"
   ]
  },
  {
   "cell_type": "code",
   "execution_count": 87,
   "metadata": {},
   "outputs": [
    {
     "name": "stdout",
     "output_type": "stream",
     "text": [
      "Accuracy: 0.4159020458772474\n",
      "\n",
      "Classification Report:\n",
      "               precision    recall  f1-score   support\n",
      "\n",
      "         1.0       0.44      0.70      0.54      4273\n",
      "         2.0       0.17      0.03      0.05      1375\n",
      "         3.0       0.21      0.05      0.08      1343\n",
      "         4.0       0.17      0.03      0.05       970\n",
      "         5.0       0.17      0.07      0.10      1623\n",
      "         6.0       0.19      0.03      0.05      1331\n",
      "         7.0       0.18      0.05      0.07      1945\n",
      "         8.0       0.23      0.16      0.19      3754\n",
      "         9.0       0.29      0.19      0.23      5408\n",
      "        10.0       0.49      0.82      0.61     10238\n",
      "\n",
      "    accuracy                           0.42     32260\n",
      "   macro avg       0.25      0.21      0.20     32260\n",
      "weighted avg       0.34      0.42      0.35     32260\n",
      "\n"
     ]
    }
   ],
   "source": [
    "y = AllDataTrain['rating']\n",
    "X = X_tfidf\n",
    "\n",
    "# Split the data into training and testing sets\n",
    "X_train, X_test, y_train, y_test = train_test_split(X, y, test_size=0.2, random_state=42)\n",
    "\n",
    "# Initialize the Logistic Regression model with max_iter value\n",
    "lr_model = LogisticRegression(max_iter=1000)\n",
    "\n",
    "# Train the model\n",
    "lr_model.fit(X_train, y_train)\n",
    "\n",
    "# Make predictions\n",
    "y_pred = lr_model.predict(X_test)\n",
    "\n",
    "# Evaluate the model\n",
    "print(\"Accuracy:\", accuracy_score(y_test, y_pred))\n",
    "print(\"\\nClassification Report:\\n\", classification_report(y_test, y_pred))"
   ]
  },
  {
   "cell_type": "code",
   "execution_count": 93,
   "metadata": {},
   "outputs": [
    {
     "name": "stdout",
     "output_type": "stream",
     "text": [
      "Mean Squared Error (MSE): 6.4299798093208524\n",
      "R-squared (R²): 0.3966021272991782\n"
     ]
    }
   ],
   "source": [
    "# Initialize the Linear Regression model\n",
    "lr_model = LinearRegression()\n",
    "\n",
    "# Train the model\n",
    "lr_model.fit(X_train, y_train)\n",
    "\n",
    "# Make predictions\n",
    "y_pred = lr_model.predict(X_test)\n",
    "\n",
    "# Evaluate the model\n",
    "mse = mean_squared_error(y_test, y_pred)\n",
    "r2 = r2_score(y_test, y_pred)\n",
    "print(f\"Mean Squared Error (MSE): {mse}\")\n",
    "print(f\"R-squared (R²): {r2}\")"
   ]
  },
  {
   "cell_type": "code",
   "execution_count": 89,
   "metadata": {},
   "outputs": [
    {
     "name": "stdout",
     "output_type": "stream",
     "text": [
      "Random Forest Mean Squared Error (MSE): 4.327069377542827\n",
      "Random Forest R-squared (R²): 0.5939420441642127\n"
     ]
    }
   ],
   "source": [
    "# Initialize the model using Random Forest Regressor\n",
    "rf_model = RandomForestRegressor(n_estimators=100, random_state=42)\n",
    "\n",
    "# Train the model\n",
    "rf_model.fit(X_train, y_train)\n",
    "\n",
    "# Make predictions\n",
    "y_pred_rf = rf_model.predict(X_test)\n",
    "\n",
    "# Evaluate the model\n",
    "mse_rf = mean_squared_error(y_test, y_pred_rf)\n",
    "r2_rf = r2_score(y_test, y_pred_rf)\n",
    "print(f\"Random Forest Mean Squared Error (MSE): {mse_rf}\")\n",
    "print(f\"Random Forest R-squared (R²): {r2_rf}\")"
   ]
  },
  {
   "cell_type": "markdown",
   "metadata": {},
   "source": [
    "- **Random Forest Mean Squared Error (MSE):** 4.327: This is an improvement from the MSE you got with Linear Regression (6.43), indicating that the RandomForest model is, on average, making closer predictions to the actual ratings. A lower MSE signifies that the model's predictions are more accurate.\n",
    "\n",
    "- **Random Forest R-squared (R²):** 0.5939: This shows a significant improvement over the Linear Regression model's R² (0.3966), suggesting that around 59.39% of the variance in the rating is now being explained by the model, compared to 39.66% previously. An R² closer to 1 indicates a model that can better account for the variance in the data.\n",
    "\n",
    "The improved performance metrics indicate that the RandomForestRegressor is more effective for this task than the simpler Linear Regression model. This isn't surprising, given Random Forest's ability to capture non-linear relationships in the data through the ensemble of decision trees, which is often crucial for complex tasks like predicting ratings based on text data."
   ]
  },
  {
   "cell_type": "code",
   "execution_count": 95,
   "metadata": {},
   "outputs": [
    {
     "data": {
      "text/plain": [
       "['random_forest_regressor.joblib']"
      ]
     },
     "execution_count": 95,
     "metadata": {},
     "output_type": "execute_result"
    }
   ],
   "source": [
    "import joblib\n",
    "\n",
    "# Save the model to a file\n",
    "joblib.dump(rf_model, 'random_forest_regressor.joblib')\n",
    "\n",
    "\n",
    "# Load the model from the file\n",
    "# loaded_rf_model = joblib.load('random_forest_regressor.joblib')"
   ]
  },
  {
   "cell_type": "markdown",
   "metadata": {},
   "source": [
    "## Feature Importances"
   ]
  },
  {
   "cell_type": "code",
   "execution_count": 96,
   "metadata": {},
   "outputs": [
    {
     "name": "stdout",
     "output_type": "stream",
     "text": [
      "worse       0.023394\n",
      "year        0.022621\n",
      "worst       0.020320\n",
      "love        0.016606\n",
      "horrible    0.014727\n",
      "life        0.014495\n",
      "great       0.013575\n",
      "bleeding    0.011330\n",
      "best        0.010822\n",
      "never       0.010463\n",
      "month       0.007874\n",
      "work        0.007692\n",
      "day         0.007656\n",
      "amazing     0.007260\n",
      "miracle     0.006914\n",
      "side        0.006807\n",
      "taking      0.006426\n",
      "made        0.006260\n",
      "took        0.006108\n",
      "gained      0.005956\n",
      "dtype: float64\n"
     ]
    }
   ],
   "source": [
    "# Extract feature importances\n",
    "feature_importances = rf_model.feature_importances_\n",
    "\n",
    "# Get the feature names from the TF-IDF vectorizer\n",
    "feature_names = tfidf_vectorizer.get_feature_names_out()\n",
    "\n",
    "# Create a pandas Series to view the top N features\n",
    "importances_series = pd.Series(feature_importances, index=feature_names)\n",
    "\n",
    "# Print the top 20 most important features\n",
    "print(importances_series.nlargest(20))"
   ]
  },
  {
   "cell_type": "markdown",
   "metadata": {},
   "source": [
    "The list of most important features according to the model includes words with both positive and negative connotations, such as \"love\", \"great\", \"best\", \"amazing\", \"miracle\" indicating positive reviews, and \"worst\", \"horrible\", \"never\", \"worse\" indicating negative reviews. This suggests that the model is effectively capturing key sentiment indicators from the text to predict ratings. The presence of words like \"year\", \"month\", \"day\", \"bleeding\", \"side\" might indicate the duration of treatment, side effects, or other aspects important to users' experiences."
   ]
  },
  {
   "cell_type": "code",
   "execution_count": 97,
   "metadata": {},
   "outputs": [
    {
     "name": "stdout",
     "output_type": "stream",
     "text": [
      "Model Parameters:\n",
      "{'bootstrap': True, 'ccp_alpha': 0.0, 'criterion': 'squared_error', 'max_depth': None, 'max_features': 1.0, 'max_leaf_nodes': None, 'max_samples': None, 'min_impurity_decrease': 0.0, 'min_samples_leaf': 1, 'min_samples_split': 2, 'min_weight_fraction_leaf': 0.0, 'monotonic_cst': None, 'n_estimators': 100, 'n_jobs': None, 'oob_score': False, 'random_state': 42, 'verbose': 0, 'warm_start': False}\n"
     ]
    }
   ],
   "source": [
    "print(\"Model Parameters:\")\n",
    "print(rf_model.get_params())"
   ]
  },
  {
   "cell_type": "code",
   "execution_count": 98,
   "metadata": {},
   "outputs": [
    {
     "name": "stdout",
     "output_type": "stream",
     "text": [
      "   Actual Rating  Predicted Rating\n",
      "0           10.0              8.74\n",
      "1           10.0              9.42\n",
      "2            8.0              8.28\n",
      "3            7.0              3.49\n",
      "4           10.0              8.91\n",
      "5            9.0              8.39\n",
      "6           10.0              8.77\n",
      "7           10.0              8.07\n",
      "8            8.0              9.09\n",
      "9           10.0              9.79\n"
     ]
    }
   ],
   "source": [
    "# y_test and y_pred_rf are defined\n",
    "sample_actual_vs_predicted = pd.DataFrame({\n",
    "    'Actual Rating': y_test[:10].to_numpy(),\n",
    "    'Predicted Rating': y_pred_rf[:10]\n",
    "})\n",
    "print(sample_actual_vs_predicted)"
   ]
  },
  {
   "cell_type": "markdown",
   "metadata": {},
   "source": [
    "## Sample Predictions vs. Actual Ratings\n",
    "The comparison between actual and predicted ratings for a sample of the test set shows that while the model generally trends in the right direction (e.g., higher actual ratings correspond to higher predicted ratings), there are discrepancies, such as a prediction of 3.49 for an actual rating of 7. This indicates areas where the model might be improved to more accurately capture the nuances of the review texts."
   ]
  },
  {
   "cell_type": "code",
   "execution_count": 100,
   "metadata": {},
   "outputs": [
    {
     "data": {
      "image/png": "[encoded data removed]",
      "text/plain": [
       "<Figure size 1000x800 with 1 Axes>"
      ]
     },
     "metadata": {},
     "output_type": "display_data"
    }
   ],
   "source": [
    "# Plot the top 20 most important features\n",
    "top_n = importances_series.nlargest(20)\n",
    "plt.figure(figsize=(10,8))\n",
    "top_n.sort_values().plot(kind='barh', color='lightblue')\n",
    "plt.title('Top 20 Most Important Features')\n",
    "plt.xlabel('Importance')\n",
    "plt.ylabel('Features')\n",
    "plt.show()"
   ]
  },
  {
   "cell_type": "code",
   "execution_count": 114,
   "metadata": {},
   "outputs": [
    {
     "data": {
      "image/png": "[encoded data removed]",
      "text/plain": [
       "<Figure size 640x480 with 1 Axes>"
      ]
     },
     "metadata": {},
     "output_type": "display_data"
    }
   ],
   "source": [
    "# Create a histogram of the actual ratings\n",
    "plt.hist(y_test, bins=np.arange(1, 12) - 0.5, alpha=0.5, label='Actual Ratings', color='navy')\n",
    "\n",
    "# Create a histogram of the predicted ratings\n",
    "plt.hist(y_pred_rf, bins=np.arange(1, 12) - 0.5, alpha=0.5, label='Predicted Ratings', color='red')\n",
    "\n",
    "# Add titles and labels\n",
    "plt.title('Comparison of Actual and Predicted Ratings')\n",
    "plt.xlabel('Ratings')\n",
    "plt.ylabel('Frequency')\n",
    "plt.xticks(range(1, 11))  # Set x-ticks to be the rating values\n",
    "plt.legend()\n",
    "\n",
    "# Show the plot\n",
    "plt.show()"
   ]
  },
  {
   "cell_type": "markdown",
   "metadata": {},
   "source": [
    "Here are some observations based on the plot:\n",
    "\n",
    "**Central Tendency:** The predicted ratings appear to have a central tendency, clustering around the median of the scale, which is common in regression problems. The model may not be as confident in predicting the extreme values and thus gravitates towards the mean.\n",
    "\n",
    "**High Ratings:** The model seems to underpredict the frequency of the highest rating (10), which is the most common actual rating based on the blue bars. It’s possible that the model is conservative with assigning the highest score unless the features strongly indicate such a rating.\n",
    "\n",
    "**Model Calibration:** The differences between the heights of the bars suggest the model may benefit from calibration techniques that can adjust the distribution of the predicted probabilities (or in this case, predicted ratings) to better match the actual distribution."
   ]
  }
 ],
 "metadata": {
  "kernelspec": {
   "display_name": "tf_m1",
   "language": "python",
   "name": "python3"
  },
  "language_info": {
   "codemirror_mode": {
    "name": "ipython",
    "version": 3
   },
   "file_extension": ".py",
   "mimetype": "text/x-python",
   "name": "python",
   "nbconvert_exporter": "python",
   "pygments_lexer": "ipython3",
   "version": "3.10.14"
  }
 },
 "nbformat": 4,
 "nbformat_minor": 2
}
